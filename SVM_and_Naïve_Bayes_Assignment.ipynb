{
  "nbformat": 4,
  "nbformat_minor": 0,
  "metadata": {
    "colab": {
      "provenance": []
    },
    "kernelspec": {
      "name": "python3",
      "display_name": "Python 3"
    },
    "language_info": {
      "name": "python"
    }
  },
  "cells": [
    {
      "cell_type": "markdown",
      "source": [
        "# SVM and Naïve Bayes Assignment"
      ],
      "metadata": {
        "id": "9AB_eR-AS5e0"
      }
    },
    {
      "cell_type": "markdown",
      "source": [
        "1. What is a Support Vector Machine (SVM)?\n",
        "\n",
        " Answer:\n",
        "SVM is a supervised machine learning algorithm used for classification and regression. It finds the optimal hyperplane that best separates data points of different classes in a high-dimensional space.\n",
        "\n"
      ],
      "metadata": {
        "id": "6pzx2XNvS5Wy"
      }
    },
    {
      "cell_type": "markdown",
      "source": [
        "2. What is the difference between Hard Margin and Soft Margin SVM?\n",
        "\n",
        " Answer:\n",
        "\n",
        "Hard Margin: No misclassifications are allowed. Only works when data is perfectly linearly separable.\n",
        "\n",
        "Soft Margin: Allows some misclassifications to find a better generalizing hyperplane for noisy or non-linearly separable data."
      ],
      "metadata": {
        "id": "5vg00I29S5Mn"
      }
    },
    {
      "cell_type": "markdown",
      "source": [
        "3. What is the mathematical intuition behind SVM?\n",
        "\n",
        "Answer:\n",
        "SVM aims to maximize the margin between two classes while minimizing classification errors.\n",
        "It solves an optimization problem to find the hyperplane that has the largest minimum distance (margin) to the nearest points from each class."
      ],
      "metadata": {
        "id": "8AgZhIzIS5DP"
      }
    },
    {
      "cell_type": "markdown",
      "source": [
        "4. What is the role of Lagrange Multipliers in SVM?\n",
        "\n",
        " Answer:\n",
        "Lagrange Multipliers are used to convert the constrained optimization problem into an unconstrained problem.\n",
        "They help solve SVM's optimization problem efficiently using dual formulations.\n",
        "\n"
      ],
      "metadata": {
        "id": "dtsiVguXS44k"
      }
    },
    {
      "cell_type": "markdown",
      "source": [
        "5. What are Support Vectors in SVM?\n",
        "\n",
        "Answer:\n",
        "Support Vectors are the data points closest to the hyperplane. They are the critical elements of the dataset that directly influence the position and orientation of the decision boundary."
      ],
      "metadata": {
        "id": "as6ouaZlS4ve"
      }
    },
    {
      "cell_type": "markdown",
      "source": [
        "6. What is a Support Vector Classifier (SVC)?\n",
        "\n",
        "Answer:\n",
        "SVC is an implementation of SVM for classification problems. It finds the hyperplane that best separates classes in feature space using soft/hard margins.\n",
        "\n"
      ],
      "metadata": {
        "id": "mP5ioARLS4lk"
      }
    },
    {
      "cell_type": "markdown",
      "source": [
        "7. What is a Support Vector Regressor (SVR)?\n",
        "\n",
        "Answer:\n",
        "SVR applies SVM concepts to regression problems. Instead of classifying, SVR tries to predict a continuous value within a margin of tolerance."
      ],
      "metadata": {
        "id": "Wmw-W5g4S4Rx"
      }
    },
    {
      "cell_type": "markdown",
      "source": [
        "8. What is the Kernel Trick in SVM?\n",
        "\n",
        "Answer:\n",
        "The Kernel Trick allows SVM to operate in a high-dimensional space without explicitly computing the coordinates. It transforms non-linearly separable data into a linearly separable one by applying a kernel function.\n",
        "\n"
      ],
      "metadata": {
        "id": "x6jrdzJqS4It"
      }
    },
    {
      "cell_type": "markdown",
      "source": [
        "9. Compare Linear Kernel, Polynomial Kernel, and RBF Kernel:\n",
        "\n",
        "Answer:\n",
        "\n",
        "Linear Kernel: Used when data is linearly separable. Fast and simple.\n",
        "\n",
        "Polynomial Kernel: Captures interactions between features up to a specific degree.\n",
        "\n",
        "RBF Kernel: Maps data to infinite dimensions; captures highly non-linear relationships. Most widely used kernel."
      ],
      "metadata": {
        "id": "ze_awZ59S4AU"
      }
    },
    {
      "cell_type": "markdown",
      "source": [
        "10. What is the effect of the C parameter in SVM?\n",
        "\n",
        "Answer:\n",
        "\n",
        "Small C: Wider margin, more misclassifications allowed (better generalization).\n",
        "\n",
        "Large C: Narrow margin, fewer misclassifications (overfitting risk).\n",
        "\n"
      ],
      "metadata": {
        "id": "0Fdok-A1S32v"
      }
    },
    {
      "cell_type": "markdown",
      "source": [
        "11. What is the role of the Gamma parameter in RBF Kernel SVM?\n",
        "\n",
        "Answer:\n",
        "Gamma defines how far the influence of a single training example reaches.\n",
        "\n",
        "Small gamma: Far reach (smoother decision boundary).\n",
        "\n",
        "Large gamma: Close reach (tight fit, risk of overfitting)."
      ],
      "metadata": {
        "id": "TcN9KXbqS3u7"
      }
    },
    {
      "cell_type": "markdown",
      "source": [
        "12. What is the Naïve Bayes classifier, and why is it called \"Naïve\"?\n",
        "\n",
        "Answer:\n",
        "Naïve Bayes is a probabilistic classifier based on Bayes’ Theorem. It’s called \"naïve\" because it assumes all features are independent of each other, which is rarely true in real life.\n",
        "\n"
      ],
      "metadata": {
        "id": "GYTCGwSyS3ml"
      }
    },
    {
      "cell_type": "markdown",
      "source": [
        "13. What is Bayes’ Theorem?\n",
        "\n",
        "Answer:\n",
        "\n",
        "𝑃\n",
        "(\n",
        "𝐴\n",
        "∣\n",
        "𝐵\n",
        ")\n",
        "=\n",
        "𝑃\n",
        "(\n",
        "𝐵\n",
        "∣\n",
        "𝐴\n",
        ")\n",
        "×\n",
        "𝑃\n",
        "(\n",
        "𝐴\n",
        ")/\n",
        "𝑃\n",
        "(\n",
        "𝐵\n",
        ")\n",
        "\n",
        "\n",
        "It describes the probability of an event based on prior knowledge of conditions related to the event."
      ],
      "metadata": {
        "id": "tV-VQAVkS3fj"
      }
    },
    {
      "cell_type": "markdown",
      "source": [
        "14. Explain the differences between Gaussian Naïve Bayes, Multinomial Naïve Bayes, and Bernoulli Naïve Bayes:\n",
        "\n",
        "Answer:\n",
        "\n",
        "Gaussian NB: Assumes features are continuous and normally distributed (used for real-valued features).\n",
        "\n",
        "Multinomial NB: Used for discrete counts (e.g., word counts in text).\n",
        "\n",
        "Bernoulli NB: Assumes binary features (0/1)."
      ],
      "metadata": {
        "id": "ofXMuO6QS3Xe"
      }
    },
    {
      "cell_type": "markdown",
      "source": [
        "15. When should you use Gaussian Naïve Bayes over other variants?\n",
        "\n",
        "Answer:\n",
        "When features are continuous and approximately follow a normal distribution (e.g., height, weight, temperature).\n",
        "\n"
      ],
      "metadata": {
        "id": "5hA2o09CS3Om"
      }
    },
    {
      "cell_type": "markdown",
      "source": [
        "16. What are the key assumptions made by Naïve Bayes?\n",
        "\n",
        "Answer:\n",
        "\n",
        "Features are conditionally independent given the class label.\n",
        "\n",
        "Every feature contributes independently to the outcome."
      ],
      "metadata": {
        "id": "2KAx5tNCS3GT"
      }
    },
    {
      "cell_type": "markdown",
      "source": [
        "17. What are the advantages and disadvantages of Naïve Bayes?\n",
        "\n",
        "Answer:\n",
        "Advantages:\n",
        "\n",
        "Simple and fast\n",
        "\n",
        "Works well with high-dimensional data\n",
        "\n",
        "Performs well with small datasets\n",
        "\n",
        "Disadvantages:\n",
        "\n",
        "Assumption of feature independence is unrealistic\n",
        "\n",
        "Poor performance when features are highly correlated"
      ],
      "metadata": {
        "id": "U8tG01CqS29_"
      }
    },
    {
      "cell_type": "markdown",
      "source": [
        "18. Why is Naïve Bayes a good choice for text classification?\n",
        "\n",
        "Answer:\n",
        "Text data often has many features (words) that occur independently, making the independence assumption fairly reasonable. Naïve Bayes performs very well on problems like spam detection, sentiment analysis, and document classification."
      ],
      "metadata": {
        "id": "WCMEgQ6cS20o"
      }
    },
    {
      "cell_type": "markdown",
      "source": [
        "19. Compare SVM and Naïve Bayes for classification tasks:\n",
        "\n",
        "Answer:\n",
        "\n",
        "SVM: Works well on complex, high-dimensional datasets; needs more computation; better for small to medium datasets.\n",
        "\n",
        "Naïve Bayes: Faster, requires less data and computation, good for text classification and very large datasets.\n",
        "\n"
      ],
      "metadata": {
        "id": "PkO6cihuS2o5"
      }
    },
    {
      "cell_type": "markdown",
      "source": [
        "20. How does Laplace Smoothing help in Naïve Bayes?\n",
        "\n",
        "Answer:\n",
        "Laplace Smoothing prevents zero probability problems by adding a small positive value (usually 1) to frequency counts. It ensures no probability is exactly zero, allowing the model to handle unseen features during prediction."
      ],
      "metadata": {
        "id": "AG3QA5UIS2fh"
      }
    },
    {
      "cell_type": "markdown",
      "source": [
        "# SVM and Naïve Bayes Practical"
      ],
      "metadata": {
        "id": "JrOuKmzkS2RO"
      }
    },
    {
      "cell_type": "code",
      "execution_count": 1,
      "metadata": {
        "colab": {
          "base_uri": "https://localhost:8080/"
        },
        "id": "YSHgyrMMSvZ5",
        "outputId": "a8eac38a-c779-417d-d7a3-0fd75860fe1e"
      },
      "outputs": [
        {
          "output_type": "stream",
          "name": "stdout",
          "text": [
            "SVM Classifier Accuracy: 1.0\n"
          ]
        }
      ],
      "source": [
        "# 1. Write a Python program to train an SVM Classifier on the Iris dataset and evaluate accuracy.\n",
        "\n",
        "from sklearn.datasets import load_iris\n",
        "from sklearn.svm import SVC\n",
        "from sklearn.model_selection import train_test_split\n",
        "from sklearn.metrics import accuracy_score\n",
        "\n",
        "# Load dataset\n",
        "iris = load_iris()\n",
        "X, y = iris.data, iris.target\n",
        "\n",
        "# Split data\n",
        "X_train, X_test, y_train, y_test = train_test_split(X, y, test_size=0.3, random_state=42)\n",
        "\n",
        "# Train SVM\n",
        "model = SVC()\n",
        "model.fit(X_train, y_train)\n",
        "\n",
        "# Predict and evaluate\n",
        "y_pred = model.predict(X_test)\n",
        "print(\"SVM Classifier Accuracy:\", accuracy_score(y_test, y_pred))\n"
      ]
    },
    {
      "cell_type": "code",
      "source": [
        "# 2. Write a Python program to train two SVM classifiers with Linear and RBF kernels on the Wine dataset,\n",
        "# then compare their accuracies.\n",
        "\n",
        "from sklearn.datasets import load_wine\n",
        "\n",
        "# Load Wine dataset\n",
        "wine = load_wine()\n",
        "X, y = wine.data, wine.target\n",
        "\n",
        "X_train, X_test, y_train, y_test = train_test_split(X, y, test_size=0.3, random_state=42)\n",
        "\n",
        "# Linear Kernel\n",
        "model_linear = SVC(kernel='linear')\n",
        "model_linear.fit(X_train, y_train)\n",
        "acc_linear = model_linear.score(X_test, y_test)\n",
        "\n",
        "# RBF Kernel\n",
        "model_rbf = SVC(kernel='rbf')\n",
        "model_rbf.fit(X_train, y_train)\n",
        "acc_rbf = model_rbf.score(X_test, y_test)\n",
        "\n",
        "print(\"Linear Kernel Accuracy:\", acc_linear)\n",
        "print(\"RBF Kernel Accuracy:\", acc_rbf)\n"
      ],
      "metadata": {
        "colab": {
          "base_uri": "https://localhost:8080/"
        },
        "id": "v1Oh-7iITErM",
        "outputId": "d708a5ea-a034-4bbd-af24-12cdce91ee3a"
      },
      "execution_count": 2,
      "outputs": [
        {
          "output_type": "stream",
          "name": "stdout",
          "text": [
            "Linear Kernel Accuracy: 0.9814814814814815\n",
            "RBF Kernel Accuracy: 0.7592592592592593\n"
          ]
        }
      ]
    },
    {
      "cell_type": "code",
      "source": [
        "# 3. Write a Python program to train an SVM Regressor (SVR) on a housing dataset and evaluate it using Mean Squared Error (MSE).\n",
        "\n",
        "from sklearn.datasets import fetch_california_housing\n",
        "from sklearn.svm import SVR\n",
        "from sklearn.metrics import mean_squared_error\n",
        "\n",
        "# Load housing dataset\n",
        "housing = fetch_california_housing()\n",
        "X, y = housing.data, housing.target\n",
        "\n",
        "X_train, X_test, y_train, y_test = train_test_split(X, y, test_size=0.3, random_state=42)\n",
        "\n",
        "# Train SVR\n",
        "svr = SVR()\n",
        "svr.fit(X_train, y_train)\n",
        "\n",
        "# Predict and evaluate\n",
        "y_pred = svr.predict(X_test)\n",
        "mse = mean_squared_error(y_test, y_pred)\n",
        "print(\"SVR Mean Squared Error:\", mse)\n"
      ],
      "metadata": {
        "colab": {
          "base_uri": "https://localhost:8080/"
        },
        "id": "Y1_YeXEbTEgA",
        "outputId": "b6146c62-5de8-4cee-81f6-0a4ed8cfc098"
      },
      "execution_count": 3,
      "outputs": [
        {
          "output_type": "stream",
          "name": "stdout",
          "text": [
            "SVR Mean Squared Error: 1.3489971413208723\n"
          ]
        }
      ]
    },
    {
      "cell_type": "code",
      "source": [
        "# 4. Write a Python program to train an SVM Classifier with a Polynomial Kernel and visualize the decision boundary.\n",
        "\n",
        "from sklearn.datasets import make_classification\n",
        "import numpy as np\n",
        "import matplotlib.pyplot as plt\n",
        "\n",
        "# Generate synthetic data\n",
        "X, y = make_classification(n_features=2, n_redundant=0, n_informative=2, n_clusters_per_class=1, n_samples=100, random_state=42)\n",
        "\n",
        "model_poly = SVC(kernel='poly', degree=3)\n",
        "model_poly.fit(X, y)\n",
        "\n",
        "# Plot decision boundary\n",
        "def plot_decision_boundary(X, y, model):\n",
        "    h = 0.02\n",
        "    x_min, x_max = X[:, 0].min() - 1, X[:, 0].max() + 1\n",
        "    y_min, y_max = X[:, 1].min() - 1, X[:, 1].max() + 1\n",
        "    xx, yy = np.meshgrid(np.arange(x_min, x_max, h),\n",
        "                         np.arange(y_min, y_max, h))\n",
        "    Z = model.predict(np.c_[xx.ravel(), yy.ravel()])\n",
        "    Z = Z.reshape(xx.shape)\n",
        "    plt.contourf(xx, yy, Z, alpha=0.8)\n",
        "    plt.scatter(X[:, 0], X[:, 1], c=y)\n",
        "    plt.xlabel('Feature 1')\n",
        "    plt.ylabel('Feature 2')\n",
        "    plt.title('SVM with Polynomial Kernel')\n",
        "    plt.show()\n",
        "\n",
        "plot_decision_boundary(X, y, model_poly)\n"
      ],
      "metadata": {
        "colab": {
          "base_uri": "https://localhost:8080/",
          "height": 472
        },
        "id": "-ax3B3CITEWU",
        "outputId": "e2164db1-75ab-4ccf-85aa-314f4320a4ba"
      },
      "execution_count": 4,
      "outputs": [
        {
          "output_type": "display_data",
          "data": {
            "text/plain": [
              "<Figure size 640x480 with 1 Axes>"
            ],
            "image/png": "[encoded data removed]"
          },
          "metadata": {}
        }
      ]
    },
    {
      "cell_type": "code",
      "source": [
        "# 5. Write a Python program to train a Gaussian Naïve Bayes classifier on the Breast Cancer dataset and evaluate accuracy.\n",
        "\n",
        "from sklearn.datasets import load_breast_cancer\n",
        "from sklearn.naive_bayes import GaussianNB\n",
        "from sklearn.model_selection import train_test_split\n",
        "from sklearn.metrics import accuracy_score\n",
        "\n",
        "# Load Breast Cancer dataset\n",
        "data = load_breast_cancer()\n",
        "X, y = data.data, data.target\n",
        "\n",
        "# Split dataset\n",
        "X_train, X_test, y_train, y_test = train_test_split(X, y, test_size=0.3, random_state=42)\n",
        "\n",
        "# Train Gaussian Naive Bayes\n",
        "gnb = GaussianNB()\n",
        "gnb.fit(X_train, y_train)\n",
        "\n",
        "# Predict and evaluate\n",
        "y_pred = gnb.predict(X_test)\n",
        "print(\"Gaussian Naive Bayes Accuracy:\", accuracy_score(y_test, y_pred))\n"
      ],
      "metadata": {
        "colab": {
          "base_uri": "https://localhost:8080/"
        },
        "id": "9Iq8W7rWTEL9",
        "outputId": "52c5eff0-dc64-47c3-e2f3-0a5db200ccc7"
      },
      "execution_count": 5,
      "outputs": [
        {
          "output_type": "stream",
          "name": "stdout",
          "text": [
            "Gaussian Naive Bayes Accuracy: 0.9415204678362573\n"
          ]
        }
      ]
    },
    {
      "cell_type": "code",
      "source": [
        "# 6. Write a Python program to train a Multinomial Naïve Bayes classifier for text classification using the 20 Newsgroups dataset.\n",
        "\n",
        "from sklearn.datasets import fetch_20newsgroups\n",
        "from sklearn.feature_extraction.text import CountVectorizer\n",
        "from sklearn.naive_bayes import MultinomialNB\n",
        "\n",
        "# Load 20 newsgroups dataset\n",
        "newsgroups = fetch_20newsgroups(subset='train', categories=['sci.space', 'rec.sport.baseball'])\n",
        "\n",
        "# Convert text to numerical features\n",
        "vectorizer = CountVectorizer()\n",
        "X = vectorizer.fit_transform(newsgroups.data)\n",
        "y = newsgroups.target\n",
        "\n",
        "# Train Multinomial NB\n",
        "mnb = MultinomialNB()\n",
        "mnb.fit(X, y)\n",
        "\n",
        "# Evaluate\n",
        "print(\"Multinomial Naive Bayes Accuracy:\", mnb.score(X, y))\n"
      ],
      "metadata": {
        "colab": {
          "base_uri": "https://localhost:8080/"
        },
        "id": "DEDt3GJwTECk",
        "outputId": "26da0c58-c9ba-4e41-ba84-568f05339734"
      },
      "execution_count": 6,
      "outputs": [
        {
          "output_type": "stream",
          "name": "stdout",
          "text": [
            "Multinomial Naive Bayes Accuracy: 0.9991596638655462\n"
          ]
        }
      ]
    },
    {
      "cell_type": "code",
      "source": [
        "# 7. Write a Python program to train an SVM Classifier with different C values and compare the decision boundaries visually.\n",
        "\n",
        "from sklearn.datasets import make_classification\n",
        "\n",
        "# Create data\n",
        "X, y = make_classification(n_samples=100, n_features=2, n_classes=2, n_clusters_per_class=1, random_state=42, n_informative=2, n_redundant=0, n_repeated=0) # Setting n_redundant and n_repeated to 0 to not exceed n_features)\n",
        "\n",
        "# Train and plot\n",
        "for C_value in [0.01, 1, 100]:\n",
        "    model = SVC(kernel='linear', C=C_value)\n",
        "    model.fit(X, y)\n",
        "\n",
        "    plt.figure()\n",
        "    plot_decision_boundary(X, y, model)\n",
        "    plt.title(f'SVM with Linear Kernel and C={C_value}')\n",
        "plt.show()\n"
      ],
      "metadata": {
        "colab": {
          "base_uri": "https://localhost:8080/",
          "height": 1000
        },
        "id": "_qDmPNZETD3q",
        "outputId": "5822105b-3536-44fe-9796-11217888b894"
      },
      "execution_count": 33,
      "outputs": [
        {
          "output_type": "display_data",
          "data": {
            "text/plain": [
              "<Figure size 640x480 with 1 Axes>"
            ],
            "image/png": "[encoded data removed]"
          },
          "metadata": {}
        },
        {
          "output_type": "display_data",
          "data": {
            "text/plain": [
              "<Figure size 640x480 with 1 Axes>"
            ],
            "image/png": "[encoded data removed]"
          },
          "metadata": {}
        },
        {
          "output_type": "display_data",
          "data": {
            "text/plain": [
              "<Figure size 640x480 with 1 Axes>"
            ],
            "image/png": "[encoded data removed]"
          },
          "metadata": {}
        },
        {
          "output_type": "display_data",
          "data": {
            "text/plain": [
              "<Figure size 640x480 with 1 Axes>"
            ],
            "image/png": "[encoded data removed]"
          },
          "metadata": {}
        },
        {
          "output_type": "display_data",
          "data": {
            "text/plain": [
              "<Figure size 640x480 with 1 Axes>"
            ],
            "image/png": "[encoded data removed]"
          },
          "metadata": {}
        },
        {
          "output_type": "display_data",
          "data": {
            "text/plain": [
              "<Figure size 640x480 with 1 Axes>"
            ],
            "image/png": "[encoded data removed]"
          },
          "metadata": {}
        }
      ]
    },
    {
      "cell_type": "code",
      "source": [
        "# 8. Write a Python program to train a Bernoulli Naïve Bayes classifier for binary classification on a dataset with binary features.\n",
        "\n",
        "from sklearn.naive_bayes import BernoulliNB\n",
        "from sklearn.datasets import make_classification\n",
        "\n",
        "# Create binary feature dataset\n",
        "X, y = make_classification(n_samples=1000, n_features=20, n_classes=2, random_state=42)\n",
        "X_binary = (X > 0).astype(int)\n",
        "\n",
        "X_train, X_test, y_train, y_test = train_test_split(X_binary, y, test_size=0.3, random_state=42)\n",
        "\n",
        "bnb = BernoulliNB()\n",
        "bnb.fit(X_train, y_train)\n",
        "print(\"Bernoulli Naive Bayes Accuracy:\", bnb.score(X_test, y_test))\n"
      ],
      "metadata": {
        "colab": {
          "base_uri": "https://localhost:8080/"
        },
        "id": "qQiLmeuyTDuC",
        "outputId": "351702c3-b33b-4620-cb30-5c96106247c7"
      },
      "execution_count": 8,
      "outputs": [
        {
          "output_type": "stream",
          "name": "stdout",
          "text": [
            "Bernoulli Naive Bayes Accuracy: 0.7966666666666666\n"
          ]
        }
      ]
    },
    {
      "cell_type": "code",
      "source": [
        "# 9. Write a Python program to apply feature scaling before training an SVM model and compare results with unscaled data.\n",
        "\n",
        "from sklearn.preprocessing import StandardScaler\n",
        "\n",
        "# Without scaling\n",
        "model_unscaled = SVC()\n",
        "model_unscaled.fit(X_train, y_train)\n",
        "acc_unscaled = model_unscaled.score(X_test, y_test)\n",
        "\n",
        "# With scaling\n",
        "scaler = StandardScaler()\n",
        "X_train_scaled = scaler.fit_transform(X_train)\n",
        "X_test_scaled = scaler.transform(X_test)\n",
        "\n",
        "model_scaled = SVC()\n",
        "model_scaled.fit(X_train_scaled, y_train)\n",
        "acc_scaled = model_scaled.score(X_test_scaled, y_test)\n",
        "\n",
        "print(f\"Accuracy without Scaling: {acc_unscaled}\")\n",
        "print(f\"Accuracy with Scaling: {acc_scaled}\")\n"
      ],
      "metadata": {
        "colab": {
          "base_uri": "https://localhost:8080/"
        },
        "id": "pL4SIuaYTDj5",
        "outputId": "85cf9d9f-4606-490b-c816-ccb30b9c8f4b"
      },
      "execution_count": 9,
      "outputs": [
        {
          "output_type": "stream",
          "name": "stdout",
          "text": [
            "Accuracy without Scaling: 0.8333333333333334\n",
            "Accuracy with Scaling: 0.8333333333333334\n"
          ]
        }
      ]
    },
    {
      "cell_type": "code",
      "source": [
        "# 10. Write a Python program to train a Gaussian Naïve Bayes model and compare the predictions before and after Laplace Smoothing.\n",
        "\n",
        "# GaussianNB does not use Laplace smoothing like MultinomialNB\n",
        "# Example for MultinomialNB with smoothing effect\n",
        "from sklearn.datasets import fetch_20newsgroups # Import fetch_20newsgroups\n",
        "from sklearn.feature_extraction.text import CountVectorizer # Import CountVectorizer\n",
        "\n",
        "\n",
        "# Reload 20 newsgroups dataset with the specific categories\n",
        "newsgroups = fetch_20newsgroups(subset='train', categories=['sci.space', 'rec.sport.baseball'])\n",
        "\n",
        "# Convert text to numerical features using CountVectorizer\n",
        "vectorizer = CountVectorizer()\n",
        "X = vectorizer.fit_transform(newsgroups.data) # Fit and transform using the loaded data\n",
        "y = newsgroups.target  # Assign target values\n",
        "\n",
        "mnb_no_smoothing = MultinomialNB(alpha=0)\n",
        "mnb_no_smoothing.fit(X, y)\n",
        "acc_no_smoothing = mnb_no_smoothing.score(X, y)\n",
        "\n",
        "mnb_smoothing = MultinomialNB(alpha=1)\n",
        "mnb_smoothing.fit(X, y)\n",
        "acc_smoothing = mnb_smoothing.score(X, y)\n",
        "\n",
        "print(f\"Accuracy without Laplace Smoothing: {acc_no_smoothing}\")\n",
        "print(f\"Accuracy with Laplace Smoothing: {acc_smoothing}\")"
      ],
      "metadata": {
        "colab": {
          "base_uri": "https://localhost:8080/"
        },
        "id": "hAPKe2ymTDZv",
        "outputId": "b13f4c3f-f8fd-4eee-dea0-cd9e9cb8164c"
      },
      "execution_count": 32,
      "outputs": [
        {
          "output_type": "stream",
          "name": "stdout",
          "text": [
            "Accuracy without Laplace Smoothing: 1.0\n",
            "Accuracy with Laplace Smoothing: 0.9991596638655462\n"
          ]
        },
        {
          "output_type": "stream",
          "name": "stderr",
          "text": [
            "/usr/local/lib/python3.11/dist-packages/sklearn/naive_bayes.py:898: RuntimeWarning: divide by zero encountered in log\n",
            "  self.feature_log_prob_ = np.log(smoothed_fc) - np.log(\n"
          ]
        }
      ]
    },
    {
      "cell_type": "code",
      "source": [
        "# 11. Write a Python program to train an SVM Classifier and use GridSearchCV to tune the hyperparameters (C, gamma, kernel).\n",
        "from sklearn.model_selection import GridSearchCV # Importing the necessary class\n",
        "from sklearn.svm import SVC\n",
        "from sklearn.preprocessing import StandardScaler # Import StandardScaler for scaling\n",
        "from sklearn.model_selection import train_test_split # Import train_test_split for data splitting\n",
        "from sklearn.datasets import load_breast_cancer # Import a dataset for demonstration\n",
        "\n",
        "# Load the Breast Cancer dataset for classification\n",
        "X, y = load_breast_cancer(return_X_y=True)\n",
        "X_train, X_test, y_train, y_test = train_test_split(X, y, test_size=0.3, random_state=42)\n",
        "\n",
        "# Feature Scaling: Apply StandardScaler before GridSearchCV\n",
        "scaler = StandardScaler()\n",
        "X_train_scaled = scaler.fit_transform(X_train)\n",
        "X_test_scaled = scaler.transform(X_test)\n",
        "\n",
        "param_grid = {\n",
        "    'C': [0.1, 1, 10],\n",
        "    'gamma': [0.01, 0.1, 1],\n",
        "    'kernel': ['linear', 'rbf']\n",
        "}\n",
        "\n",
        "grid = GridSearchCV(SVC(), param_grid, cv=5)\n",
        "grid.fit(X_train_scaled, y_train)\n",
        "\n",
        "print(\"Best Parameters:\", grid.best_params_)\n",
        "print(\"Best Cross-Validation Accuracy:\", grid.best_score_)"
      ],
      "metadata": {
        "colab": {
          "base_uri": "https://localhost:8080/"
        },
        "id": "zA8aDbWYTDOi",
        "outputId": "f05e942b-e18b-46be-ddc0-08b3f8fdf4b7"
      },
      "execution_count": 31,
      "outputs": [
        {
          "output_type": "stream",
          "name": "stdout",
          "text": [
            "Best Parameters: {'C': 0.1, 'gamma': 0.01, 'kernel': 'linear'}\n",
            "Best Cross-Validation Accuracy: 0.9748417721518987\n"
          ]
        }
      ]
    },
    {
      "cell_type": "code",
      "source": [
        "# 12. Write a Python program to train an SVM Classifier on an imbalanced dataset and apply class weighting and check if it improves accuracy.\n",
        "\n",
        "X, y = make_classification(n_classes=2, weights=[0.9, 0.1], n_samples=1000, random_state=42, n_features=20)\n",
        "\n",
        "X_train, X_test, y_train, y_test = train_test_split(X, y, test_size=0.3, random_state=42)\n",
        "\n",
        "model_balanced = SVC(class_weight='balanced')\n",
        "model_balanced.fit(X_train, y_train)\n",
        "print(\"Balanced SVM Accuracy:\", model_balanced.score(X_test, y_test))\n"
      ],
      "metadata": {
        "colab": {
          "base_uri": "https://localhost:8080/"
        },
        "id": "cZ9hT4pRTC-q",
        "outputId": "e3f1b04a-53b8-4822-9fa0-918dd1e33cb8"
      },
      "execution_count": 12,
      "outputs": [
        {
          "output_type": "stream",
          "name": "stdout",
          "text": [
            "Balanced SVM Accuracy: 0.9\n"
          ]
        }
      ]
    },
    {
      "cell_type": "code",
      "source": [
        "# 13. Write a Python program to implement a Naïve Bayes classifier for spam detection using email data.\n",
        "\n",
        "from sklearn.model_selection import train_test_split\n",
        "from sklearn.naive_bayes import MultinomialNB\n",
        "from sklearn.feature_extraction.text import CountVectorizer\n",
        "\n",
        "# Example dummy spam dataset\n",
        "emails = [\"Win money now\", \"Hello friend, how are you?\", \"Cheap loans available\", \"Meeting tomorrow at 10\", \"You won a lottery\"]\n",
        "labels = [1, 0, 1, 0, 1]  # 1 = spam, 0 = not spam\n",
        "\n",
        "vectorizer = CountVectorizer()\n",
        "X = vectorizer.fit_transform(emails)\n",
        "y = labels\n",
        "\n",
        "X_train, X_test, y_train, y_test = train_test_split(X, y, test_size=0.3, random_state=42)\n",
        "\n",
        "model = MultinomialNB()\n",
        "model.fit(X_train, y_train)\n",
        "\n",
        "print(\"Spam Detection Accuracy:\", model.score(X_test, y_test))\n"
      ],
      "metadata": {
        "colab": {
          "base_uri": "https://localhost:8080/"
        },
        "id": "f266vDGYTCxI",
        "outputId": "c96006eb-a2d0-4c8b-bf33-45e36178cf0a"
      },
      "execution_count": 13,
      "outputs": [
        {
          "output_type": "stream",
          "name": "stdout",
          "text": [
            "Spam Detection Accuracy: 0.5\n"
          ]
        }
      ]
    },
    {
      "cell_type": "code",
      "source": [
        "# 14. Write a Python program to train an SVM Classifier and a Naïve Bayes Classifier on the same dataset and compare their accuracy.\n",
        "\n",
        "from sklearn.svm import SVC\n",
        "from sklearn.naive_bayes import GaussianNB\n",
        "\n",
        "# Use Iris dataset\n",
        "iris = load_iris()\n",
        "X, y = iris.data, iris.target\n",
        "\n",
        "X_train, X_test, y_train, y_test = train_test_split(X, y, test_size=0.3, random_state=42)\n",
        "\n",
        "# SVM\n",
        "svm_model = SVC()\n",
        "svm_model.fit(X_train, y_train)\n",
        "svm_acc = svm_model.score(X_test, y_test)\n",
        "\n",
        "# Naive Bayes\n",
        "nb_model = GaussianNB()\n",
        "nb_model.fit(X_train, y_train)\n",
        "nb_acc = nb_model.score(X_test, y_test)\n",
        "\n",
        "print(f\"SVM Accuracy: {svm_acc}\")\n",
        "print(f\"Naive Bayes Accuracy: {nb_acc}\")\n"
      ],
      "metadata": {
        "colab": {
          "base_uri": "https://localhost:8080/"
        },
        "id": "oD26GHKWTCnr",
        "outputId": "101cdb70-02cb-4c3d-ea6f-e0d8002d9fa5"
      },
      "execution_count": 14,
      "outputs": [
        {
          "output_type": "stream",
          "name": "stdout",
          "text": [
            "SVM Accuracy: 1.0\n",
            "Naive Bayes Accuracy: 0.9777777777777777\n"
          ]
        }
      ]
    },
    {
      "cell_type": "code",
      "source": [
        "# 15. Write a Python program to perform feature selection before training a Naïve Bayes classifier and compare results.\n",
        "\n",
        "from sklearn.feature_selection import SelectKBest, f_classif\n",
        "\n",
        "# Select top 2 features\n",
        "selector = SelectKBest(score_func=f_classif, k=2)\n",
        "X_new = selector.fit_transform(X, y)\n",
        "\n",
        "X_train_fs, X_test_fs, y_train_fs, y_test_fs = train_test_split(X_new, y, test_size=0.3, random_state=42)\n",
        "\n",
        "nb_fs = GaussianNB()\n",
        "nb_fs.fit(X_train_fs, y_train_fs)\n",
        "\n",
        "print(\"Naive Bayes Accuracy with Feature Selection:\", nb_fs.score(X_test_fs, y_test_fs))\n"
      ],
      "metadata": {
        "colab": {
          "base_uri": "https://localhost:8080/"
        },
        "id": "wbBV1TzYTCeE",
        "outputId": "e5710aad-95e2-4cb2-a285-a445dbea0e24"
      },
      "execution_count": 15,
      "outputs": [
        {
          "output_type": "stream",
          "name": "stdout",
          "text": [
            "Naive Bayes Accuracy with Feature Selection: 1.0\n"
          ]
        }
      ]
    },
    {
      "cell_type": "code",
      "source": [
        "# 16. Write a Python program to train an SVM Classifier using One-vs-Rest (OvR) and One-vs-One (OvO) strategies on the Wine dataset and compare their accuracy.\n",
        "\n",
        "from sklearn.multiclass import OneVsRestClassifier, OneVsOneClassifier\n",
        "\n",
        "wine = load_wine()\n",
        "X, y = wine.data, wine.target\n",
        "\n",
        "X_train, X_test, y_train, y_test = train_test_split(X, y, test_size=0.3, random_state=42)\n",
        "\n",
        "# OvR\n",
        "ovr_model = OneVsRestClassifier(SVC())\n",
        "ovr_model.fit(X_train, y_train)\n",
        "ovr_acc = ovr_model.score(X_test, y_test)\n",
        "\n",
        "# OvO\n",
        "ovo_model = OneVsOneClassifier(SVC())\n",
        "ovo_model.fit(X_train, y_train)\n",
        "ovo_acc = ovo_model.score(X_test, y_test)\n",
        "\n",
        "print(f\"OvR Accuracy: {ovr_acc}\")\n",
        "print(f\"OvO Accuracy: {ovo_acc}\")\n"
      ],
      "metadata": {
        "colab": {
          "base_uri": "https://localhost:8080/"
        },
        "id": "_XW2M_4jTCUb",
        "outputId": "14826e2d-3b6f-4655-c207-e3494dd7e855"
      },
      "execution_count": 16,
      "outputs": [
        {
          "output_type": "stream",
          "name": "stdout",
          "text": [
            "OvR Accuracy: 0.7222222222222222\n",
            "OvO Accuracy: 0.7962962962962963\n"
          ]
        }
      ]
    },
    {
      "cell_type": "code",
      "source": [
        "# 17. Write a Python program to train an SVM Classifier using Linear, Polynomial, and RBF kernels on the Breast Cancer dataset and compare their accuracy.\n",
        "\n",
        "breast_cancer = load_breast_cancer()\n",
        "X, y = breast_cancer.data, breast_cancer.target\n",
        "\n",
        "X_train, X_test, y_train, y_test = train_test_split(X, y, test_size=0.3, random_state=42)\n",
        "\n",
        "kernels = ['linear', 'poly', 'rbf']\n",
        "\n",
        "for kernel in kernels:\n",
        "    model = SVC(kernel=kernel)\n",
        "    model.fit(X_train, y_train)\n",
        "    acc = model.score(X_test, y_test)\n",
        "    print(f\"Kernel: {kernel} -> Accuracy: {acc}\")\n"
      ],
      "metadata": {
        "colab": {
          "base_uri": "https://localhost:8080/"
        },
        "id": "cN_7wvoyTCJl",
        "outputId": "cf1cd041-2b52-42f4-f649-dcfb93618082"
      },
      "execution_count": 17,
      "outputs": [
        {
          "output_type": "stream",
          "name": "stdout",
          "text": [
            "Kernel: linear -> Accuracy: 0.9649122807017544\n",
            "Kernel: poly -> Accuracy: 0.9415204678362573\n",
            "Kernel: rbf -> Accuracy: 0.935672514619883\n"
          ]
        }
      ]
    },
    {
      "cell_type": "code",
      "source": [
        "# 18. Write a Python program to train an SVM Classifier using Stratified K-Fold Cross-Validation and compute the average accuracy.\n",
        "\n",
        "from sklearn.model_selection import StratifiedKFold, cross_val_score\n",
        "\n",
        "skf = StratifiedKFold(n_splits=5)\n",
        "\n",
        "model = SVC()\n",
        "\n",
        "scores = cross_val_score(model, X, y, cv=skf)\n",
        "\n",
        "print(\"Cross-validation Scores:\", scores)\n",
        "print(\"Average Accuracy:\", scores.mean())\n"
      ],
      "metadata": {
        "colab": {
          "base_uri": "https://localhost:8080/"
        },
        "id": "6dxkXifZTB-o",
        "outputId": "cc2e4061-fbc4-4e9f-b485-91e66fd422d0"
      },
      "execution_count": 18,
      "outputs": [
        {
          "output_type": "stream",
          "name": "stdout",
          "text": [
            "Cross-validation Scores: [0.85087719 0.89473684 0.92982456 0.94736842 0.9380531 ]\n",
            "Average Accuracy: 0.9121720229777983\n"
          ]
        }
      ]
    },
    {
      "cell_type": "code",
      "source": [
        "# 19. Write a Python program to train a Naïve Bayes classifier using different prior probabilities and compare performance.\n",
        "\n",
        "# Manually setting priors\n",
        "gnb_uniform = GaussianNB(priors=[0.5, 0.5])\n",
        "gnb_uniform.fit(X_train, y_train)\n",
        "acc_uniform = gnb_uniform.score(X_test, y_test)\n",
        "\n",
        "gnb_default = GaussianNB()\n",
        "gnb_default.fit(X_train, y_train)\n",
        "acc_default = gnb_default.score(X_test, y_test)\n",
        "\n",
        "print(f\"Accuracy with uniform priors: {acc_uniform}\")\n",
        "print(f\"Accuracy with default priors: {acc_default}\")\n"
      ],
      "metadata": {
        "colab": {
          "base_uri": "https://localhost:8080/"
        },
        "id": "0YOkcejmTB1T",
        "outputId": "b29e8a19-1652-4fa7-aa58-b9e8c04a9473"
      },
      "execution_count": 19,
      "outputs": [
        {
          "output_type": "stream",
          "name": "stdout",
          "text": [
            "Accuracy with uniform priors: 0.9415204678362573\n",
            "Accuracy with default priors: 0.9415204678362573\n"
          ]
        }
      ]
    },
    {
      "cell_type": "code",
      "source": [
        "# 20. Write a Python program to train an SVM Classifier and evaluate its performance using Precision, Recall, and F1-Score instead of accuracy.\n",
        "\n",
        "from sklearn.metrics import precision_score, recall_score, f1_score\n",
        "\n",
        "model = SVC()\n",
        "model.fit(X_train, y_train)\n",
        "y_pred = model.predict(X_test)\n",
        "\n",
        "precision = precision_score(y_test, y_pred, average='macro')\n",
        "recall = recall_score(y_test, y_pred, average='macro')\n",
        "f1 = f1_score(y_test, y_pred, average='macro')\n",
        "\n",
        "print(f\"Precision: {precision}\")\n",
        "print(f\"Recall: {recall}\")\n",
        "print(f\"F1-Score: {f1}\")\n"
      ],
      "metadata": {
        "colab": {
          "base_uri": "https://localhost:8080/"
        },
        "id": "jo1E5gxBTBrG",
        "outputId": "431134e2-eaf1-4ee9-bae1-bde6a8cf00a4"
      },
      "execution_count": 20,
      "outputs": [
        {
          "output_type": "stream",
          "name": "stdout",
          "text": [
            "Precision: 0.953781512605042\n",
            "Recall: 0.9126984126984127\n",
            "F1-Score: 0.9279448381536104\n"
          ]
        }
      ]
    },
    {
      "cell_type": "code",
      "source": [
        "# 21. Write a Python program to train a Naïve Bayes Classifier and evaluate its performance using Log Loss (Cross-Entropy Loss).\n",
        "\n",
        "from sklearn.metrics import log_loss\n",
        "\n",
        "nb_model = GaussianNB()\n",
        "nb_model.fit(X_train, y_train)\n",
        "y_pred_proba = nb_model.predict_proba(X_test)\n",
        "\n",
        "print(\"Log Loss:\", log_loss(y_test, y_pred_proba))\n"
      ],
      "metadata": {
        "colab": {
          "base_uri": "https://localhost:8080/"
        },
        "id": "TE4Ial4ITBhe",
        "outputId": "a2aefbb3-7dc1-4c56-c3dd-912b6dc25a82"
      },
      "execution_count": 21,
      "outputs": [
        {
          "output_type": "stream",
          "name": "stdout",
          "text": [
            "Log Loss: 0.48986013210958873\n"
          ]
        }
      ]
    },
    {
      "cell_type": "code",
      "source": [
        "# 21. Write a Python program to train a Naïve Bayes Classifier and evaluate its performance using Log Loss (Cross-Entropy Loss).\n",
        "\n",
        "from sklearn.metrics import log_loss\n",
        "\n",
        "nb_model = GaussianNB()\n",
        "nb_model.fit(X_train, y_train)\n",
        "y_pred_proba = nb_model.predict_proba(X_test)\n",
        "\n",
        "print(\"Log Loss:\", log_loss(y_test, y_pred_proba))\n"
      ],
      "metadata": {
        "colab": {
          "base_uri": "https://localhost:8080/"
        },
        "id": "sGBma4I5Wxhe",
        "outputId": "f10cb3be-c5fc-4c19-ff12-926f32bbc0a1"
      },
      "execution_count": 22,
      "outputs": [
        {
          "output_type": "stream",
          "name": "stdout",
          "text": [
            "Log Loss: 0.48986013210958873\n"
          ]
        }
      ]
    },
    {
      "cell_type": "code",
      "source": [
        "# 22. Write a Python program to train an SVM Classifier and visualize the Confusion Matrix using seaborn.\n",
        "\n",
        "import seaborn as sns\n",
        "from sklearn.metrics import confusion_matrix\n",
        "\n",
        "model = SVC()\n",
        "model.fit(X_train, y_train)\n",
        "y_pred = model.predict(X_test)\n",
        "\n",
        "cm = confusion_matrix(y_test, y_pred)\n",
        "sns.heatmap(cm, annot=True, fmt='d', cmap='Blues')\n",
        "plt.xlabel('Predicted')\n",
        "plt.ylabel('True')\n",
        "plt.title('Confusion Matrix')\n",
        "plt.show()\n"
      ],
      "metadata": {
        "colab": {
          "base_uri": "https://localhost:8080/",
          "height": 472
        },
        "id": "8I9TLlrmTBX2",
        "outputId": "be4cab6e-38e9-409d-a498-528e256886de"
      },
      "execution_count": 23,
      "outputs": [
        {
          "output_type": "display_data",
          "data": {
            "text/plain": [
              "<Figure size 640x480 with 2 Axes>"
            ],
            "image/png": "[encoded data removed]"
          },
          "metadata": {}
        }
      ]
    },
    {
      "cell_type": "code",
      "source": [
        "# 23. Write a Python program to train an SVM Regressor (SVR) and evaluate its performance using Mean Absolute Error (MAE) instead of MSE.\n",
        "\n",
        "from sklearn.metrics import mean_absolute_error\n",
        "\n",
        "housing = fetch_california_housing()\n",
        "X, y = housing.data, housing.target\n",
        "\n",
        "X_train, X_test, y_train, y_test = train_test_split(X, y, test_size=0.3, random_state=42)\n",
        "\n",
        "model = SVR()\n",
        "model.fit(X_train, y_train)\n",
        "y_pred = model.predict(X_test)\n",
        "\n",
        "print(\"Mean Absolute Error (MAE):\", mean_absolute_error(y_test, y_pred))\n"
      ],
      "metadata": {
        "colab": {
          "base_uri": "https://localhost:8080/"
        },
        "id": "KpGlaaaDTBOM",
        "outputId": "129514f7-4876-4b28-992f-c6d90b86d104"
      },
      "execution_count": 24,
      "outputs": [
        {
          "output_type": "stream",
          "name": "stdout",
          "text": [
            "Mean Absolute Error (MAE): 0.8664984635504496\n"
          ]
        }
      ]
    },
    {
      "cell_type": "code",
      "source": [
        "# 24. Write a Python program to train a Naïve Bayes classifier and evaluate its performance using the ROC-AUC score.\n",
        "\n",
        "from sklearn.metrics import roc_auc_score\n",
        "from sklearn.datasets import load_breast_cancer # Importing a classification dataset\n",
        "from sklearn.model_selection import train_test_split\n",
        "\n",
        "# Load the Breast Cancer dataset for classification\n",
        "X, y = load_breast_cancer(return_X_y=True)\n",
        "X_train, X_test, y_train, y_test = train_test_split(X, y, test_size=0.3, random_state=42)\n",
        "\n",
        "\n",
        "nb_model = GaussianNB()\n",
        "nb_model.fit(X_train, y_train)\n",
        "y_pred_prob = nb_model.predict_proba(X_test)[:,1]\n",
        "\n",
        "roc_auc = roc_auc_score(y_test, y_pred_prob)\n",
        "print(\"ROC-AUC Score:\", roc_auc)"
      ],
      "metadata": {
        "colab": {
          "base_uri": "https://localhost:8080/"
        },
        "id": "OLmmL8yrTBEy",
        "outputId": "b6d95a5e-3e8a-4919-db03-76e5d7ed0aae"
      },
      "execution_count": 29,
      "outputs": [
        {
          "output_type": "stream",
          "name": "stdout",
          "text": [
            "ROC-AUC Score: 0.9922104644326867\n"
          ]
        }
      ]
    },
    {
      "cell_type": "code",
      "source": [
        "# 25. Write a Python program to train an SVM Classifier and visualize the Precision-Recall Curve.\n",
        "\n",
        "from sklearn.metrics import precision_recall_curve\n",
        "from sklearn.svm import SVC\n",
        "# Assuming 'y' contains your original target variable with discrete classes\n",
        "# and 'X' contains your features\n",
        "# Replace this with your actual data loading/preprocessing if needed\n",
        "from sklearn.datasets import load_breast_cancer\n",
        "X, y = load_breast_cancer(return_X_y=True)\n",
        "from sklearn.model_selection import train_test_split\n",
        "X_train, X_test, y_train, y_test = train_test_split(X, y, test_size=0.3, random_state=42)\n",
        "\n",
        "\n",
        "model = SVC(probability=True)\n",
        "model.fit(X_train, y_train)\n",
        "y_scores = model.predict_proba(X_test)[:,1]\n",
        "\n",
        "precision, recall, _ = precision_recall_curve(y_test, y_scores)\n",
        "\n",
        "import matplotlib.pyplot as plt\n",
        "plt.plot(recall, precision, marker='.')\n",
        "plt.xlabel('Recall')\n",
        "plt.ylabel('Precision')\n",
        "plt.title('Precision-Recall Curve')\n",
        "plt.show()"
      ],
      "metadata": {
        "colab": {
          "base_uri": "https://localhost:8080/",
          "height": 472
        },
        "id": "o-ZtdUSXTA7N",
        "outputId": "9e50aa85-7e65-4260-8fe0-f94cd0e5c47b"
      },
      "execution_count": 28,
      "outputs": [
        {
          "output_type": "display_data",
          "data": {
            "text/plain": [
              "<Figure size 640x480 with 1 Axes>"
            ],
            "image/png": "[encoded data removed]"
          },
          "metadata": {}
        }
      ]
    },
    {
      "cell_type": "code",
      "source": [],
      "metadata": {
        "id": "PoyNBUAXXVBP"
      },
      "execution_count": null,
      "outputs": []
    }
  ]
}